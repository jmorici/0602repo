{
 "cells": [
  {
   "cell_type": "code",
   "execution_count": 2,
   "metadata": {},
   "outputs": [],
   "source": [
    "# Import Dependencies\n",
    "import pandas as pd\n",
    "import numpy as np"
   ]
  },
  {
   "cell_type": "code",
   "execution_count": 3,
   "metadata": {},
   "outputs": [],
   "source": [
    "# Load in file\n",
    "file = \"Homework4.csv\""
   ]
  },
  {
   "cell_type": "code",
   "execution_count": 4,
   "metadata": {},
   "outputs": [
    {
     "data": {
      "text/html": [
       "<div>\n",
       "<style scoped>\n",
       "    .dataframe tbody tr th:only-of-type {\n",
       "        vertical-align: middle;\n",
       "    }\n",
       "\n",
       "    .dataframe tbody tr th {\n",
       "        vertical-align: top;\n",
       "    }\n",
       "\n",
       "    .dataframe thead th {\n",
       "        text-align: right;\n",
       "    }\n",
       "</style>\n",
       "<table border=\"1\" class=\"dataframe\">\n",
       "  <thead>\n",
       "    <tr style=\"text-align: right;\">\n",
       "      <th></th>\n",
       "      <th>SN</th>\n",
       "      <th>Age</th>\n",
       "      <th>Gender</th>\n",
       "      <th>Item ID</th>\n",
       "      <th>Item Name</th>\n",
       "      <th>Price</th>\n",
       "    </tr>\n",
       "  </thead>\n",
       "  <tbody>\n",
       "    <tr>\n",
       "      <th>0</th>\n",
       "      <td>Aelalis34</td>\n",
       "      <td>38</td>\n",
       "      <td>Male</td>\n",
       "      <td>165</td>\n",
       "      <td>Bone Crushing Silver Skewer</td>\n",
       "      <td>3.37</td>\n",
       "    </tr>\n",
       "    <tr>\n",
       "      <th>1</th>\n",
       "      <td>Eolo46</td>\n",
       "      <td>21</td>\n",
       "      <td>Male</td>\n",
       "      <td>119</td>\n",
       "      <td>Stormbringer, Dark Blade of Ending Misery</td>\n",
       "      <td>2.32</td>\n",
       "    </tr>\n",
       "    <tr>\n",
       "      <th>2</th>\n",
       "      <td>Assastnya25</td>\n",
       "      <td>34</td>\n",
       "      <td>Male</td>\n",
       "      <td>174</td>\n",
       "      <td>Primitive Blade</td>\n",
       "      <td>2.46</td>\n",
       "    </tr>\n",
       "    <tr>\n",
       "      <th>3</th>\n",
       "      <td>Pheusrical25</td>\n",
       "      <td>21</td>\n",
       "      <td>Male</td>\n",
       "      <td>92</td>\n",
       "      <td>Final Critic</td>\n",
       "      <td>1.36</td>\n",
       "    </tr>\n",
       "    <tr>\n",
       "      <th>4</th>\n",
       "      <td>Aela59</td>\n",
       "      <td>23</td>\n",
       "      <td>Male</td>\n",
       "      <td>63</td>\n",
       "      <td>Stormfury Mace</td>\n",
       "      <td>1.27</td>\n",
       "    </tr>\n",
       "  </tbody>\n",
       "</table>\n",
       "</div>"
      ],
      "text/plain": [
       "             SN  Age Gender  Item ID  \\\n",
       "0     Aelalis34   38   Male      165   \n",
       "1        Eolo46   21   Male      119   \n",
       "2   Assastnya25   34   Male      174   \n",
       "3  Pheusrical25   21   Male       92   \n",
       "4        Aela59   23   Male       63   \n",
       "\n",
       "                                   Item Name  Price  \n",
       "0                Bone Crushing Silver Skewer   3.37  \n",
       "1  Stormbringer, Dark Blade of Ending Misery   2.32  \n",
       "2                            Primitive Blade   2.46  \n",
       "3                               Final Critic   1.36  \n",
       "4                             Stormfury Mace   1.27  "
      ]
     },
     "execution_count": 4,
     "metadata": {},
     "output_type": "execute_result"
    }
   ],
   "source": [
    "file_pd = pd.read_csv(file)\n",
    "file_pd.head()"
   ]
  },
  {
   "cell_type": "code",
   "execution_count": 5,
   "metadata": {},
   "outputs": [
    {
     "data": {
      "text/plain": [
       "Index(['SN', 'Age', 'Gender', 'Item ID', 'Item Name', 'Price'], dtype='object')"
      ]
     },
     "execution_count": 5,
     "metadata": {},
     "output_type": "execute_result"
    }
   ],
   "source": [
    "file_pd.columns"
   ]
  },
  {
   "cell_type": "code",
   "execution_count": 6,
   "metadata": {},
   "outputs": [
    {
     "name": "stdout",
     "output_type": "stream",
     "text": [
      "573\n"
     ]
    }
   ],
   "source": [
    " #Player Count\n",
    "Total_Players = len(file_pd[\"SN\"].unique())\n",
    "print(Total_Players)"
   ]
  },
  {
   "cell_type": "code",
   "execution_count": 7,
   "metadata": {},
   "outputs": [
    {
     "data": {
      "text/plain": [
       "780"
      ]
     },
     "execution_count": 7,
     "metadata": {},
     "output_type": "execute_result"
    }
   ],
   "source": [
    "#Purchasing Analysis (Total) = Total Items Purchased\n",
    "file_pd[\"Item ID\"].count()"
   ]
  },
  {
   "cell_type": "code",
   "execution_count": 8,
   "metadata": {},
   "outputs": [
    {
     "name": "stdout",
     "output_type": "stream",
     "text": [
      "2286.33\n"
     ]
    }
   ],
   "source": [
    "#Purchasing Analysis (Total) = Total Revenue\n",
    "total_rev = file_pd[\"Price\"].sum()\n",
    "print(total_rev)"
   ]
  },
  {
   "cell_type": "code",
   "execution_count": 9,
   "metadata": {},
   "outputs": [
    {
     "name": "stdout",
     "output_type": "stream",
     "text": [
      "179\n"
     ]
    }
   ],
   "source": [
    " #Purchasing Analysis (Total) = Calculate the number of unique items.\n",
    "Unique_Items = len(file_pd[\"Item Name\"].unique())\n",
    "print(Unique_Items)"
   ]
  },
  {
   "cell_type": "code",
   "execution_count": 10,
   "metadata": {},
   "outputs": [
    {
     "data": {
      "text/plain": [
       "2.931192307692303"
      ]
     },
     "execution_count": 10,
     "metadata": {},
     "output_type": "execute_result"
    }
   ],
   "source": [
    "#Purchasing Analysis (Total) = Total Items Purchased\n",
    "file_pd[\"Price\"].mean()"
   ]
  },
  {
   "cell_type": "code",
   "execution_count": 11,
   "metadata": {},
   "outputs": [
    {
     "data": {
      "text/plain": [
       "Male                     633\n",
       "Female                   136\n",
       "Other / Non-Disclosed     11\n",
       "Name: Gender, dtype: int64"
      ]
     },
     "execution_count": 11,
     "metadata": {},
     "output_type": "execute_result"
    }
   ],
   "source": [
    "#Gender Demographics = Gender Counts\n",
    "file_pd['Gender'].value_counts()"
   ]
  },
  {
   "cell_type": "code",
   "execution_count": 12,
   "metadata": {},
   "outputs": [
    {
     "data": {
      "text/plain": [
       "Male                     0.811538\n",
       "Female                   0.174359\n",
       "Other / Non-Disclosed    0.014103\n",
       "Name: Gender, dtype: float64"
      ]
     },
     "execution_count": 12,
     "metadata": {},
     "output_type": "execute_result"
    }
   ],
   "source": [
    "#Gender Demographics = Percentage Breakdown\n",
    "file_pd['Gender'].value_counts()/file_pd[\"Gender\"].count()\n"
   ]
  },
  {
   "cell_type": "code",
   "execution_count": 13,
   "metadata": {},
   "outputs": [
    {
     "name": "stdout",
     "output_type": "stream",
     "text": [
      "633\n",
      "2.9505213270142154\n",
      "1867.68\n"
     ]
    }
   ],
   "source": [
    " # Purchasing Analysis (Gender) - The below each broken by gender:\n",
    "#Purchase Count\n",
    "#Average Purchase Price\n",
    "#Total Purchase Value\n",
    "#Normalized Totals\n",
    "\n",
    "\n",
    "#Male Data\n",
    "male_df = file_pd.loc[file_pd[\"Gender\"] == \"Male\", :]\n",
    "male_df\n",
    "\n",
    "total_male_purchases = male_df[\"Item ID\"].count()\n",
    "average_male_purchase_price = male_df[\"Price\"].mean()\n",
    "total_male_purchase_value = male_df[\"Price\"].sum()\n",
    "\n",
    "print(total_male_purchases)\n",
    "print(average_male_purchase_price)\n",
    "print(total_male_purchase_value)"
   ]
  },
  {
   "cell_type": "code",
   "execution_count": 14,
   "metadata": {},
   "outputs": [
    {
     "name": "stdout",
     "output_type": "stream",
     "text": [
      "136\n",
      "2.815514705882352\n",
      "382.90999999999997\n"
     ]
    }
   ],
   "source": [
    "#Female Data\n",
    "female_df = file_pd.loc[file_pd[\"Gender\"] == \"Female\", :]\n",
    "female_df\n",
    "\n",
    "total_female_purchases = female_df[\"Item ID\"].count()\n",
    "average_female_purchase_price = female_df[\"Price\"].mean()\n",
    "total_female_purchase_value = female_df[\"Price\"].sum()\n",
    "\n",
    "print(total_female_purchases)\n",
    "print(average_female_purchase_price)\n",
    "print(total_female_purchase_value)"
   ]
  },
  {
   "cell_type": "code",
   "execution_count": 15,
   "metadata": {},
   "outputs": [
    {
     "name": "stdout",
     "output_type": "stream",
     "text": [
      "11\n",
      "3.2490909090909086\n",
      "3.2490909090909086\n"
     ]
    }
   ],
   "source": [
    "#Other / Non-Disclosed\n",
    "\n",
    "other_df = file_pd.loc[file_pd[\"Gender\"] == \"Other / Non-Disclosed\", :]\n",
    "other_df\n",
    "\n",
    "total_other_purchases = other_df[\"Item ID\"].count()\n",
    "average_other_purchase_price = other_df[\"Price\"].mean()\n",
    "total_other_purchase_value = other_df[\"Price\"].sum()\n",
    "\n",
    "print(total_other_purchases)\n",
    "print(average_other_purchase_price)\n",
    "print(average_other_purchase_price)"
   ]
  },
  {
   "cell_type": "code",
   "execution_count": 16,
   "metadata": {},
   "outputs": [
    {
     "data": {
      "text/html": [
       "<div>\n",
       "<style scoped>\n",
       "    .dataframe tbody tr th:only-of-type {\n",
       "        vertical-align: middle;\n",
       "    }\n",
       "\n",
       "    .dataframe tbody tr th {\n",
       "        vertical-align: top;\n",
       "    }\n",
       "\n",
       "    .dataframe thead th {\n",
       "        text-align: right;\n",
       "    }\n",
       "</style>\n",
       "<table border=\"1\" class=\"dataframe\">\n",
       "  <thead>\n",
       "    <tr style=\"text-align: right;\">\n",
       "      <th></th>\n",
       "      <th>Average Purchase Price</th>\n",
       "      <th>Purchase Count</th>\n",
       "      <th>Total Purchase Value</th>\n",
       "    </tr>\n",
       "  </thead>\n",
       "  <tbody>\n",
       "    <tr>\n",
       "      <th>0</th>\n",
       "      <td>2.950521</td>\n",
       "      <td>633</td>\n",
       "      <td>1867.68</td>\n",
       "    </tr>\n",
       "  </tbody>\n",
       "</table>\n",
       "</div>"
      ],
      "text/plain": [
       "   Average Purchase Price  Purchase Count  Total Purchase Value\n",
       "0                2.950521             633               1867.68"
      ]
     },
     "execution_count": 16,
     "metadata": {},
     "output_type": "execute_result"
    }
   ],
   "source": [
    "male_data_normalized = pd.DataFrame({\n",
    "      \"Purchase Count\":[total_male_purchases],\n",
    "      \"Average Purchase Price\":[average_male_purchase_price],\n",
    "      \"Total Purchase Value\":[total_male_purchase_value],\n",
    "})\n",
    "male_data_normalized.head()"
   ]
  },
  {
   "cell_type": "code",
   "execution_count": 17,
   "metadata": {},
   "outputs": [
    {
     "data": {
      "text/html": [
       "<div>\n",
       "<style scoped>\n",
       "    .dataframe tbody tr th:only-of-type {\n",
       "        vertical-align: middle;\n",
       "    }\n",
       "\n",
       "    .dataframe tbody tr th {\n",
       "        vertical-align: top;\n",
       "    }\n",
       "\n",
       "    .dataframe thead th {\n",
       "        text-align: right;\n",
       "    }\n",
       "</style>\n",
       "<table border=\"1\" class=\"dataframe\">\n",
       "  <thead>\n",
       "    <tr style=\"text-align: right;\">\n",
       "      <th></th>\n",
       "      <th>Average Purchase Price</th>\n",
       "      <th>Purchase Count</th>\n",
       "      <th>Total Purchase Value</th>\n",
       "    </tr>\n",
       "  </thead>\n",
       "  <tbody>\n",
       "    <tr>\n",
       "      <th>0</th>\n",
       "      <td>2.815515</td>\n",
       "      <td>136</td>\n",
       "      <td>382.91</td>\n",
       "    </tr>\n",
       "  </tbody>\n",
       "</table>\n",
       "</div>"
      ],
      "text/plain": [
       "   Average Purchase Price  Purchase Count  Total Purchase Value\n",
       "0                2.815515             136                382.91"
      ]
     },
     "execution_count": 17,
     "metadata": {},
     "output_type": "execute_result"
    }
   ],
   "source": [
    "female_data_normalized = pd.DataFrame({\n",
    "      \"Purchase Count\":[total_female_purchases],\n",
    "      \"Average Purchase Price\":[average_female_purchase_price],\n",
    "      \"Total Purchase Value\":[total_female_purchase_value],\n",
    "})\n",
    "female_data_normalized.head()"
   ]
  },
  {
   "cell_type": "code",
   "execution_count": 18,
   "metadata": {},
   "outputs": [
    {
     "data": {
      "text/html": [
       "<div>\n",
       "<style scoped>\n",
       "    .dataframe tbody tr th:only-of-type {\n",
       "        vertical-align: middle;\n",
       "    }\n",
       "\n",
       "    .dataframe tbody tr th {\n",
       "        vertical-align: top;\n",
       "    }\n",
       "\n",
       "    .dataframe thead th {\n",
       "        text-align: right;\n",
       "    }\n",
       "</style>\n",
       "<table border=\"1\" class=\"dataframe\">\n",
       "  <thead>\n",
       "    <tr style=\"text-align: right;\">\n",
       "      <th></th>\n",
       "      <th>Average Purchase Price</th>\n",
       "      <th>Purchase Count</th>\n",
       "      <th>Total Purchase Value</th>\n",
       "    </tr>\n",
       "  </thead>\n",
       "  <tbody>\n",
       "    <tr>\n",
       "      <th>0</th>\n",
       "      <td>3.249091</td>\n",
       "      <td>11</td>\n",
       "      <td>35.74</td>\n",
       "    </tr>\n",
       "  </tbody>\n",
       "</table>\n",
       "</div>"
      ],
      "text/plain": [
       "   Average Purchase Price  Purchase Count  Total Purchase Value\n",
       "0                3.249091              11                 35.74"
      ]
     },
     "execution_count": 18,
     "metadata": {},
     "output_type": "execute_result"
    }
   ],
   "source": [
    "other_data_normalized = pd.DataFrame({\n",
    "      \"Purchase Count\":[total_other_purchases],\n",
    "      \"Average Purchase Price\":[average_other_purchase_price],\n",
    "      \"Total Purchase Value\":[total_other_purchase_value],\n",
    "})\n",
    "other_data_normalized.head()"
   ]
  },
  {
   "cell_type": "code",
   "execution_count": 19,
   "metadata": {},
   "outputs": [
    {
     "data": {
      "text/html": [
       "<div>\n",
       "<style scoped>\n",
       "    .dataframe tbody tr th:only-of-type {\n",
       "        vertical-align: middle;\n",
       "    }\n",
       "\n",
       "    .dataframe tbody tr th {\n",
       "        vertical-align: top;\n",
       "    }\n",
       "\n",
       "    .dataframe thead th {\n",
       "        text-align: right;\n",
       "    }\n",
       "</style>\n",
       "<table border=\"1\" class=\"dataframe\">\n",
       "  <thead>\n",
       "    <tr style=\"text-align: right;\">\n",
       "      <th></th>\n",
       "      <th>Average Purchase Price</th>\n",
       "      <th>Purchase Count</th>\n",
       "      <th>Total Purchase Value</th>\n",
       "    </tr>\n",
       "  </thead>\n",
       "  <tbody>\n",
       "    <tr>\n",
       "      <th>0</th>\n",
       "      <td>2.950521</td>\n",
       "      <td>633</td>\n",
       "      <td>1867.68</td>\n",
       "    </tr>\n",
       "    <tr>\n",
       "      <th>1</th>\n",
       "      <td>2.815515</td>\n",
       "      <td>136</td>\n",
       "      <td>382.91</td>\n",
       "    </tr>\n",
       "    <tr>\n",
       "      <th>2</th>\n",
       "      <td>3.249091</td>\n",
       "      <td>11</td>\n",
       "      <td>35.74</td>\n",
       "    </tr>\n",
       "  </tbody>\n",
       "</table>\n",
       "</div>"
      ],
      "text/plain": [
       "   Average Purchase Price  Purchase Count  Total Purchase Value\n",
       "0                2.950521             633               1867.68\n",
       "1                2.815515             136                382.91\n",
       "2                3.249091              11                 35.74"
      ]
     },
     "execution_count": 19,
     "metadata": {},
     "output_type": "execute_result"
    }
   ],
   "source": [
    "net_data_normalized = pd.DataFrame({\n",
    "      \"Purchase Count\":[total_male_purchases, total_female_purchases, total_other_purchases],\n",
    "      \"Average Purchase Price\":[average_male_purchase_price, average_female_purchase_price, average_other_purchase_price],\n",
    "      \"Total Purchase Value\":[total_male_purchase_value, total_female_purchase_value, total_other_purchase_value],\n",
    "})\n",
    "net_data_normalized.head()"
   ]
  },
  {
   "cell_type": "code",
   "execution_count": 20,
   "metadata": {},
   "outputs": [],
   "source": [
    "#Age Demographics\n",
    "\n",
    "#The below each broken into bins of 4 years (i.e. <10, 10-14, 15-19, etc.) \n",
    "\n",
    "#Purchase Count\n",
    "#Average Purchase Price\n",
    "#Total Purchase Value\n",
    "#Normalized Totals\n",
    "\n",
    "# Create the bins in which Data will be held\n",
    "bins = [0, 10, 14, 18, 22, 26, 30, 34, 38, 42, 46, 50, 100]\n",
    "\n",
    "group_labels = [\"0 - 10\", \"10 - 14\", \"14 - 18\", \"18 - 22\", \"22 - 26\", \"26 - 30\",\n",
    "                \"30 - 34\", \"34 - 38\", \"38 - 42\", \"42 - 46\", \"46 - 50\", \"50 - 100\",]"
   ]
  },
  {
   "cell_type": "code",
   "execution_count": 21,
   "metadata": {},
   "outputs": [
    {
     "data": {
      "text/plain": [
       "0    34 - 38\n",
       "1    18 - 22\n",
       "2    30 - 34\n",
       "3    18 - 22\n",
       "4    22 - 26\n",
       "Name: Age, dtype: category\n",
       "Categories (12, object): [0 - 10 < 10 - 14 < 14 - 18 < 18 - 22 ... 38 - 42 < 42 - 46 < 46 - 50 < 50 - 100]"
      ]
     },
     "execution_count": 21,
     "metadata": {},
     "output_type": "execute_result"
    }
   ],
   "source": [
    "# Slice the data and place it into bins\n",
    "pd.cut(file_pd[\"Age\"], bins, labels=group_labels).head()"
   ]
  },
  {
   "cell_type": "code",
   "execution_count": 22,
   "metadata": {},
   "outputs": [
    {
     "data": {
      "text/html": [
       "<div>\n",
       "<style scoped>\n",
       "    .dataframe tbody tr th:only-of-type {\n",
       "        vertical-align: middle;\n",
       "    }\n",
       "\n",
       "    .dataframe tbody tr th {\n",
       "        vertical-align: top;\n",
       "    }\n",
       "\n",
       "    .dataframe thead th {\n",
       "        text-align: right;\n",
       "    }\n",
       "</style>\n",
       "<table border=\"1\" class=\"dataframe\">\n",
       "  <thead>\n",
       "    <tr style=\"text-align: right;\">\n",
       "      <th></th>\n",
       "      <th>SN</th>\n",
       "      <th>Age</th>\n",
       "      <th>Gender</th>\n",
       "      <th>Item ID</th>\n",
       "      <th>Item Name</th>\n",
       "      <th>Price</th>\n",
       "      <th>View Group</th>\n",
       "    </tr>\n",
       "  </thead>\n",
       "  <tbody>\n",
       "    <tr>\n",
       "      <th>0</th>\n",
       "      <td>Aelalis34</td>\n",
       "      <td>38</td>\n",
       "      <td>Male</td>\n",
       "      <td>165</td>\n",
       "      <td>Bone Crushing Silver Skewer</td>\n",
       "      <td>3.37</td>\n",
       "      <td>34 - 38</td>\n",
       "    </tr>\n",
       "    <tr>\n",
       "      <th>1</th>\n",
       "      <td>Eolo46</td>\n",
       "      <td>21</td>\n",
       "      <td>Male</td>\n",
       "      <td>119</td>\n",
       "      <td>Stormbringer, Dark Blade of Ending Misery</td>\n",
       "      <td>2.32</td>\n",
       "      <td>18 - 22</td>\n",
       "    </tr>\n",
       "    <tr>\n",
       "      <th>2</th>\n",
       "      <td>Assastnya25</td>\n",
       "      <td>34</td>\n",
       "      <td>Male</td>\n",
       "      <td>174</td>\n",
       "      <td>Primitive Blade</td>\n",
       "      <td>2.46</td>\n",
       "      <td>30 - 34</td>\n",
       "    </tr>\n",
       "    <tr>\n",
       "      <th>3</th>\n",
       "      <td>Pheusrical25</td>\n",
       "      <td>21</td>\n",
       "      <td>Male</td>\n",
       "      <td>92</td>\n",
       "      <td>Final Critic</td>\n",
       "      <td>1.36</td>\n",
       "      <td>18 - 22</td>\n",
       "    </tr>\n",
       "    <tr>\n",
       "      <th>4</th>\n",
       "      <td>Aela59</td>\n",
       "      <td>23</td>\n",
       "      <td>Male</td>\n",
       "      <td>63</td>\n",
       "      <td>Stormfury Mace</td>\n",
       "      <td>1.27</td>\n",
       "      <td>22 - 26</td>\n",
       "    </tr>\n",
       "  </tbody>\n",
       "</table>\n",
       "</div>"
      ],
      "text/plain": [
       "             SN  Age Gender  Item ID  \\\n",
       "0     Aelalis34   38   Male      165   \n",
       "1        Eolo46   21   Male      119   \n",
       "2   Assastnya25   34   Male      174   \n",
       "3  Pheusrical25   21   Male       92   \n",
       "4        Aela59   23   Male       63   \n",
       "\n",
       "                                   Item Name  Price View Group  \n",
       "0                Bone Crushing Silver Skewer   3.37    34 - 38  \n",
       "1  Stormbringer, Dark Blade of Ending Misery   2.32    18 - 22  \n",
       "2                            Primitive Blade   2.46    30 - 34  \n",
       "3                               Final Critic   1.36    18 - 22  \n",
       "4                             Stormfury Mace   1.27    22 - 26  "
      ]
     },
     "execution_count": 22,
     "metadata": {},
     "output_type": "execute_result"
    }
   ],
   "source": [
    "# Place the data series into a new column inside of the DataFrame\n",
    "file_pd[\"View Group\"] = pd.cut(file_pd[\"Age\"], bins, labels=group_labels)\n",
    "file_pd.head()"
   ]
  },
  {
   "cell_type": "code",
   "execution_count": 184,
   "metadata": {},
   "outputs": [],
   "source": [
    " # Create a GroupBy object based upon \"View Group\"\n",
    "age_group = file_pd.groupby(\"View Group\")\n",
    "\n",
    "#Total Purchase Value\n",
    "purchase_count_age = age_group[\"Item ID\"].count()\n",
    "\n",
    "\n",
    "average_purchase_age = age_group[\"Price\"].mean()\n",
    "\n",
    "\n",
    "total_purchase_value_age = age_group[\"Price\"].sum()\n"
   ]
  },
  {
   "cell_type": "code",
   "execution_count": 185,
   "metadata": {},
   "outputs": [
    {
     "data": {
      "text/html": [
       "<div>\n",
       "<style scoped>\n",
       "    .dataframe tbody tr th:only-of-type {\n",
       "        vertical-align: middle;\n",
       "    }\n",
       "\n",
       "    .dataframe tbody tr th {\n",
       "        vertical-align: top;\n",
       "    }\n",
       "\n",
       "    .dataframe thead th {\n",
       "        text-align: right;\n",
       "    }\n",
       "</style>\n",
       "<table border=\"1\" class=\"dataframe\">\n",
       "  <thead>\n",
       "    <tr style=\"text-align: right;\">\n",
       "      <th></th>\n",
       "      <th>Average Purchase by Age</th>\n",
       "      <th>Purchase Count by Age</th>\n",
       "      <th>Total Purchase by Age</th>\n",
       "    </tr>\n",
       "    <tr>\n",
       "      <th>View Group</th>\n",
       "      <th></th>\n",
       "      <th></th>\n",
       "      <th></th>\n",
       "    </tr>\n",
       "  </thead>\n",
       "  <tbody>\n",
       "    <tr>\n",
       "      <th>0 - 10</th>\n",
       "      <td>3.019375</td>\n",
       "      <td>32</td>\n",
       "      <td>96.62</td>\n",
       "    </tr>\n",
       "    <tr>\n",
       "      <th>10 - 14</th>\n",
       "      <td>2.702903</td>\n",
       "      <td>31</td>\n",
       "      <td>83.79</td>\n",
       "    </tr>\n",
       "    <tr>\n",
       "      <th>14 - 18</th>\n",
       "      <td>2.876757</td>\n",
       "      <td>111</td>\n",
       "      <td>319.32</td>\n",
       "    </tr>\n",
       "    <tr>\n",
       "      <th>18 - 22</th>\n",
       "      <td>2.927273</td>\n",
       "      <td>231</td>\n",
       "      <td>676.20</td>\n",
       "    </tr>\n",
       "    <tr>\n",
       "      <th>22 - 26</th>\n",
       "      <td>2.937295</td>\n",
       "      <td>207</td>\n",
       "      <td>608.02</td>\n",
       "    </tr>\n",
       "  </tbody>\n",
       "</table>\n",
       "</div>"
      ],
      "text/plain": [
       "            Average Purchase by Age  Purchase Count by Age  \\\n",
       "View Group                                                   \n",
       "0 - 10                     3.019375                     32   \n",
       "10 - 14                    2.702903                     31   \n",
       "14 - 18                    2.876757                    111   \n",
       "18 - 22                    2.927273                    231   \n",
       "22 - 26                    2.937295                    207   \n",
       "\n",
       "            Total Purchase by Age  \n",
       "View Group                         \n",
       "0 - 10                      96.62  \n",
       "10 - 14                     83.79  \n",
       "14 - 18                    319.32  \n",
       "18 - 22                    676.20  \n",
       "22 - 26                    608.02  "
      ]
     },
     "execution_count": 185,
     "metadata": {},
     "output_type": "execute_result"
    }
   ],
   "source": [
    " # Normalized Summary of Age Demographics\n",
    "age_summary_table = pd.DataFrame({\"Purchase Count by Age\": purchase_count_age,\n",
    "                                    \"Average Purchase by Age\": average_purchase_age,\n",
    "                                  \"Total Purchase by Age\": total_purchase_value_age,\n",
    "                                 })\n",
    "age_summary_table.head()"
   ]
  },
  {
   "cell_type": "code",
   "execution_count": 202,
   "metadata": {},
   "outputs": [],
   "source": [
    "#Top Spenders\n",
    "\n",
    "#Identify the the top 5 spenders in the game by total purchase value, then list (in a table):\n",
    "\n",
    "#SN\n",
    "#Purchase Count\n",
    "#Average Purchase Price\n",
    "#Total Purchase Value\n",
    "\n",
    "# Grouping the DataFrame by \"Assignee\"\n",
    "SN_group_2 = file_pd.groupby(\"SN\").agg({'Price':'sum','Item ID': 'count'})\n",
    "SN_group_3 = file_pd.groupby(\"SN\").agg({'Price':'mean'})\n",
    "SN_group_3  = SN_group_3.round(2)"
   ]
  },
  {
   "cell_type": "code",
   "execution_count": 203,
   "metadata": {},
   "outputs": [
    {
     "data": {
      "text/html": [
       "<div>\n",
       "<style scoped>\n",
       "    .dataframe tbody tr th:only-of-type {\n",
       "        vertical-align: middle;\n",
       "    }\n",
       "\n",
       "    .dataframe tbody tr th {\n",
       "        vertical-align: top;\n",
       "    }\n",
       "\n",
       "    .dataframe thead th {\n",
       "        text-align: right;\n",
       "    }\n",
       "</style>\n",
       "<table border=\"1\" class=\"dataframe\">\n",
       "  <thead>\n",
       "    <tr style=\"text-align: right;\">\n",
       "      <th></th>\n",
       "      <th>SN</th>\n",
       "      <th>Total Purchase Value</th>\n",
       "      <th>Purchase Count</th>\n",
       "      <th>Average Purchase Price</th>\n",
       "    </tr>\n",
       "  </thead>\n",
       "  <tbody>\n",
       "    <tr>\n",
       "      <th>0</th>\n",
       "      <td>Undirrala66</td>\n",
       "      <td>17.06</td>\n",
       "      <td>5</td>\n",
       "      <td>3.41</td>\n",
       "    </tr>\n",
       "    <tr>\n",
       "      <th>1</th>\n",
       "      <td>Saedue76</td>\n",
       "      <td>13.56</td>\n",
       "      <td>4</td>\n",
       "      <td>3.39</td>\n",
       "    </tr>\n",
       "    <tr>\n",
       "      <th>2</th>\n",
       "      <td>Mindimnya67</td>\n",
       "      <td>12.74</td>\n",
       "      <td>4</td>\n",
       "      <td>3.18</td>\n",
       "    </tr>\n",
       "    <tr>\n",
       "      <th>3</th>\n",
       "      <td>Haellysu29</td>\n",
       "      <td>12.73</td>\n",
       "      <td>3</td>\n",
       "      <td>4.24</td>\n",
       "    </tr>\n",
       "    <tr>\n",
       "      <th>4</th>\n",
       "      <td>Eoda93</td>\n",
       "      <td>11.58</td>\n",
       "      <td>3</td>\n",
       "      <td>3.86</td>\n",
       "    </tr>\n",
       "  </tbody>\n",
       "</table>\n",
       "</div>"
      ],
      "text/plain": [
       "            SN  Total Purchase Value  Purchase Count  Average Purchase Price\n",
       "0  Undirrala66                 17.06               5                    3.41\n",
       "1     Saedue76                 13.56               4                    3.39\n",
       "2  Mindimnya67                 12.74               4                    3.18\n",
       "3   Haellysu29                 12.73               3                    4.24\n",
       "4       Eoda93                 11.58               3                    3.86"
      ]
     },
     "execution_count": 203,
     "metadata": {},
     "output_type": "execute_result"
    }
   ],
   "source": [
    "#Sorted\n",
    "top_sorted = SN_group_2.sort_values(by='Price', ascending=False,) \n",
    "top_sorted2 = SN_group_3.sort_values(by='Price', ascending=False,) \n",
    "top_sorted  = top_sorted .rename(\n",
    "    columns={\"Price\": \"Total Purchase Value\", \"Item ID\": \"Purchase Count\"})\n",
    "top_sorted2  = top_sorted2 .rename(\n",
    "    columns={\"Price\": \"Average Purchase Price\"})\n",
    "\n",
    "top_sorted = top_sorted.reset_index()\n",
    "top_sorted2 = top_sorted2.reset_index()\n",
    "top_sorted = top_sorted.merge(top_sorted2, on=\"SN\")\n",
    "\n",
    "top_sorted.head(5)"
   ]
  },
  {
   "cell_type": "code",
   "execution_count": 234,
   "metadata": {},
   "outputs": [],
   "source": [
    "#Most Popular Items\n",
    "#Identify the 5 most popular items by purchase count, then list (in a table):\n",
    "#Item ID\n",
    "#Item Name\n",
    "#Purchase Count (Item ID)\n",
    "#Item Price\n",
    "#Total Purchase Value (Price.sum)\n",
    "\n",
    "Pop_group_1 = file_pd.groupby(\"Item Name\").agg({'Item ID': 'count','Price':'sum'})"
   ]
  },
  {
   "cell_type": "code",
   "execution_count": 235,
   "metadata": {},
   "outputs": [],
   "source": [
    "Pop_group_2 = file_pd.groupby(\"Item Name\").agg({'Price':'unique'})"
   ]
  },
  {
   "cell_type": "code",
   "execution_count": 236,
   "metadata": {},
   "outputs": [
    {
     "data": {
      "text/html": [
       "<div>\n",
       "<style scoped>\n",
       "    .dataframe tbody tr th:only-of-type {\n",
       "        vertical-align: middle;\n",
       "    }\n",
       "\n",
       "    .dataframe tbody tr th {\n",
       "        vertical-align: top;\n",
       "    }\n",
       "\n",
       "    .dataframe thead th {\n",
       "        text-align: right;\n",
       "    }\n",
       "</style>\n",
       "<table border=\"1\" class=\"dataframe\">\n",
       "  <thead>\n",
       "    <tr style=\"text-align: right;\">\n",
       "      <th></th>\n",
       "      <th>Item Name</th>\n",
       "      <th>Purchase Count</th>\n",
       "      <th>Total Purchase Value</th>\n",
       "      <th>Item Price</th>\n",
       "    </tr>\n",
       "  </thead>\n",
       "  <tbody>\n",
       "    <tr>\n",
       "      <th>0</th>\n",
       "      <td>Final Critic</td>\n",
       "      <td>14</td>\n",
       "      <td>38.60</td>\n",
       "      <td>[1.36, 4.62]</td>\n",
       "    </tr>\n",
       "    <tr>\n",
       "      <th>1</th>\n",
       "      <td>Arcane Gem</td>\n",
       "      <td>11</td>\n",
       "      <td>24.53</td>\n",
       "      <td>[2.23]</td>\n",
       "    </tr>\n",
       "    <tr>\n",
       "      <th>2</th>\n",
       "      <td>Betrayal, Whisper of Grieving Widows</td>\n",
       "      <td>11</td>\n",
       "      <td>25.85</td>\n",
       "      <td>[2.35]</td>\n",
       "    </tr>\n",
       "    <tr>\n",
       "      <th>3</th>\n",
       "      <td>Stormcaller</td>\n",
       "      <td>10</td>\n",
       "      <td>34.65</td>\n",
       "      <td>[4.15, 2.78]</td>\n",
       "    </tr>\n",
       "    <tr>\n",
       "      <th>4</th>\n",
       "      <td>Woeful Adamantite Claymore</td>\n",
       "      <td>9</td>\n",
       "      <td>11.16</td>\n",
       "      <td>[1.24]</td>\n",
       "    </tr>\n",
       "  </tbody>\n",
       "</table>\n",
       "</div>"
      ],
      "text/plain": [
       "                              Item Name  Purchase Count  Total Purchase Value  \\\n",
       "0                          Final Critic              14                 38.60   \n",
       "1                            Arcane Gem              11                 24.53   \n",
       "2  Betrayal, Whisper of Grieving Widows              11                 25.85   \n",
       "3                           Stormcaller              10                 34.65   \n",
       "4            Woeful Adamantite Claymore               9                 11.16   \n",
       "\n",
       "     Item Price  \n",
       "0  [1.36, 4.62]  \n",
       "1        [2.23]  \n",
       "2        [2.35]  \n",
       "3  [4.15, 2.78]  \n",
       "4        [1.24]  "
      ]
     },
     "execution_count": 236,
     "metadata": {},
     "output_type": "execute_result"
    }
   ],
   "source": [
    "#Sorted\n",
    "pop_sorted = Pop_group_1.sort_values(by='Item ID', ascending=False,) \n",
    "pop_sorted  = pop_sorted .rename(\n",
    "     columns={\"Item ID\": \"Purchase Count\",\"Price\": \"Total Purchase Value\"})\n",
    "Pop_group_2  = Pop_group_2 .rename(\n",
    "     columns={\"Price\": \"Item Price\"})\n",
    "\n",
    "pop_sorted = pop_sorted.reset_index()\n",
    "Pop_group_2 = Pop_group_2.reset_index()\n",
    "pop_sorted = pop_sorted.merge(Pop_group_2, on=\"Item Name\")\n",
    "\n",
    "pop_sorted.head(5)"
   ]
  },
  {
   "cell_type": "code",
   "execution_count": 244,
   "metadata": {},
   "outputs": [],
   "source": [
    "#Most Profitable Items\n",
    "#Identify the 5 most profitable items by total purchase value, then list (in a table):\n",
    "#Item ID\n",
    "#Item Name\n",
    "#Purchase Count\n",
    "#Item Price\n",
    "#Total Purchase Value\n",
    "\n",
    "Pro_group_1 = file_pd.groupby(\"Item ID\").agg({'Item ID': 'count','Price':'sum'})\n",
    "Pro_group_2 = file_pd.groupby(\"Item ID\").agg({'Price':'unique','Item Name':'unique'})\n"
   ]
  },
  {
   "cell_type": "code",
   "execution_count": 245,
   "metadata": {},
   "outputs": [
    {
     "data": {
      "text/html": [
       "<div>\n",
       "<style scoped>\n",
       "    .dataframe tbody tr th:only-of-type {\n",
       "        vertical-align: middle;\n",
       "    }\n",
       "\n",
       "    .dataframe tbody tr th {\n",
       "        vertical-align: top;\n",
       "    }\n",
       "\n",
       "    .dataframe thead th {\n",
       "        text-align: right;\n",
       "    }\n",
       "</style>\n",
       "<table border=\"1\" class=\"dataframe\">\n",
       "  <thead>\n",
       "    <tr style=\"text-align: right;\">\n",
       "      <th></th>\n",
       "      <th>Item ID</th>\n",
       "      <th>Purchase Count</th>\n",
       "      <th>Total Purchase Value</th>\n",
       "      <th>Item Price</th>\n",
       "      <th>Item Name</th>\n",
       "    </tr>\n",
       "  </thead>\n",
       "  <tbody>\n",
       "    <tr>\n",
       "      <th>0</th>\n",
       "      <td>39</td>\n",
       "      <td>11</td>\n",
       "      <td>25.85</td>\n",
       "      <td>[2.35]</td>\n",
       "      <td>[Betrayal, Whisper of Grieving Widows]</td>\n",
       "    </tr>\n",
       "    <tr>\n",
       "      <th>1</th>\n",
       "      <td>84</td>\n",
       "      <td>11</td>\n",
       "      <td>24.53</td>\n",
       "      <td>[2.23]</td>\n",
       "      <td>[Arcane Gem]</td>\n",
       "    </tr>\n",
       "    <tr>\n",
       "      <th>2</th>\n",
       "      <td>31</td>\n",
       "      <td>9</td>\n",
       "      <td>18.63</td>\n",
       "      <td>[2.07]</td>\n",
       "      <td>[Trickster]</td>\n",
       "    </tr>\n",
       "    <tr>\n",
       "      <th>3</th>\n",
       "      <td>175</td>\n",
       "      <td>9</td>\n",
       "      <td>11.16</td>\n",
       "      <td>[1.24]</td>\n",
       "      <td>[Woeful Adamantite Claymore]</td>\n",
       "    </tr>\n",
       "    <tr>\n",
       "      <th>4</th>\n",
       "      <td>13</td>\n",
       "      <td>9</td>\n",
       "      <td>13.41</td>\n",
       "      <td>[1.49]</td>\n",
       "      <td>[Serenity]</td>\n",
       "    </tr>\n",
       "  </tbody>\n",
       "</table>\n",
       "</div>"
      ],
      "text/plain": [
       "   Item ID  Purchase Count  Total Purchase Value Item Price  \\\n",
       "0       39              11                 25.85     [2.35]   \n",
       "1       84              11                 24.53     [2.23]   \n",
       "2       31               9                 18.63     [2.07]   \n",
       "3      175               9                 11.16     [1.24]   \n",
       "4       13               9                 13.41     [1.49]   \n",
       "\n",
       "                                Item Name  \n",
       "0  [Betrayal, Whisper of Grieving Widows]  \n",
       "1                            [Arcane Gem]  \n",
       "2                             [Trickster]  \n",
       "3            [Woeful Adamantite Claymore]  \n",
       "4                              [Serenity]  "
      ]
     },
     "execution_count": 245,
     "metadata": {},
     "output_type": "execute_result"
    }
   ],
   "source": [
    "#Sorted\n",
    "pro_sorted = Pro_group_1.sort_values(by='Item ID', ascending=False,) \n",
    "pro_sorted  = pro_sorted .rename(\n",
    "     columns={\"Item ID\": \"Purchase Count\",\"Price\": \"Total Purchase Value\"})\n",
    "Pro_group_2  = Pro_group_2 .rename(\n",
    "     columns={\"Price\": \"Item Price\"})\n",
    "\n",
    "pro_sorted = pro_sorted .reset_index()\n",
    "Pro_group_2 = Pro_group_2.reset_index()\n",
    "pro_sorted = pro_sorted.merge(Pro_group_2, on=\"Item ID\")\n",
    "\n",
    "pro_sorted.head(5)"
   ]
  },
  {
   "cell_type": "code",
   "execution_count": null,
   "metadata": {},
   "outputs": [],
   "source": []
  }
 ],
 "metadata": {
  "kernelspec": {
   "display_name": "Python 3",
   "language": "python",
   "name": "python3"
  },
  "language_info": {
   "codemirror_mode": {
    "name": "ipython",
    "version": 3
   },
   "file_extension": ".py",
   "mimetype": "text/x-python",
   "name": "python",
   "nbconvert_exporter": "python",
   "pygments_lexer": "ipython3",
   "version": "3.6.4"
  }
 },
 "nbformat": 4,
 "nbformat_minor": 2
}
